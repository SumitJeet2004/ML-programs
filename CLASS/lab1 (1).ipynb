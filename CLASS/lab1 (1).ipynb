{
 "cells": [
  {
   "cell_type": "code",
   "execution_count": 1,
   "id": "b026d07a-b7ae-4ff8-82f6-23b48ff460f7",
   "metadata": {},
   "outputs": [
    {
     "name": "stdout",
     "output_type": "stream",
     "text": [
      "hello jeet\n"
     ]
    }
   ],
   "source": [
    "print (\"hello jeet\")\n"
   ]
  },
  {
   "cell_type": "code",
   "execution_count": 2,
   "id": "d88694d2-a8d1-4c16-a011-57081f4559bd",
   "metadata": {},
   "outputs": [
    {
     "data": {
      "text/plain": [
       "5"
      ]
     },
     "execution_count": 2,
     "metadata": {},
     "output_type": "execute_result"
    }
   ],
   "source": [
    "x = 5\n",
    "x"
   ]
  },
  {
   "cell_type": "code",
   "execution_count": 3,
   "id": "791d4b3d-2372-411e-be5e-54ab65852452",
   "metadata": {},
   "outputs": [
    {
     "data": {
      "text/plain": [
       "25"
      ]
     },
     "execution_count": 3,
     "metadata": {},
     "output_type": "execute_result"
    }
   ],
   "source": [
    "x ** 2"
   ]
  },
  {
   "cell_type": "code",
   "execution_count": 4,
   "id": "4fe17c02-b25d-4092-90d4-966e4b4888aa",
   "metadata": {},
   "outputs": [
    {
     "data": {
      "text/plain": [
       "2.5"
      ]
     },
     "execution_count": 4,
     "metadata": {},
     "output_type": "execute_result"
    }
   ],
   "source": [
    "x/float(2)"
   ]
  },
  {
   "cell_type": "code",
   "execution_count": 5,
   "id": "69de03a8-14a7-413f-bc50-7fcd25be286f",
   "metadata": {},
   "outputs": [
    {
     "data": {
      "text/plain": [
       "['jeet', 'sumit', 'rai']"
      ]
     },
     "execution_count": 5,
     "metadata": {},
     "output_type": "execute_result"
    }
   ],
   "source": [
    "my_list = ['jeet','sumit','rai']\n",
    "my_list"
   ]
  },
  {
   "cell_type": "code",
   "execution_count": 6,
   "id": "5e0f394d-3da9-4cef-9475-5f2bdc3aea39",
   "metadata": {},
   "outputs": [
    {
     "data": {
      "text/plain": [
       "['jeet', 'sumit', 'rai']"
      ]
     },
     "execution_count": 6,
     "metadata": {},
     "output_type": "execute_result"
    }
   ],
   "source": [
    "my_list[:3]"
   ]
  },
  {
   "cell_type": "code",
   "execution_count": 8,
   "id": "d921b650-6f97-4b7b-8675-2665fc4e9257",
   "metadata": {},
   "outputs": [
    {
     "data": {
      "text/plain": [
       "['jeet']"
      ]
     },
     "execution_count": 8,
     "metadata": {},
     "output_type": "execute_result"
    }
   ],
   "source": [
    "my_list[:1]"
   ]
  },
  {
   "cell_type": "code",
   "execution_count": 10,
   "id": "4e382815-385b-4e27-b755-16753bb838b4",
   "metadata": {},
   "outputs": [],
   "source": [
    "my_list.remove('sumit')"
   ]
  },
  {
   "cell_type": "code",
   "execution_count": 11,
   "id": "45f2672a-6098-4081-9d5c-e6b8839f762c",
   "metadata": {},
   "outputs": [
    {
     "data": {
      "text/plain": [
       "['jeet', 'rai']"
      ]
     },
     "execution_count": 11,
     "metadata": {},
     "output_type": "execute_result"
    }
   ],
   "source": [
    "my_list"
   ]
  },
  {
   "cell_type": "code",
   "execution_count": 12,
   "id": "8ea9eeae-d394-4696-b6fc-b9ca65114b7c",
   "metadata": {},
   "outputs": [
    {
     "data": {
      "text/plain": [
       "'welcome to my World of Programming'"
      ]
     },
     "execution_count": 12,
     "metadata": {},
     "output_type": "execute_result"
    }
   ],
   "source": [
    "my_string = 'welcome to my World of Programming'\n",
    "my_string"
   ]
  },
  {
   "cell_type": "code",
   "execution_count": 13,
   "id": "5e06f6f9-f363-48d0-bcd9-5f0080bc00bd",
   "metadata": {},
   "outputs": [
    {
     "data": {
      "text/plain": [
       "'WELCOME TO MY WORLD OF PROGRAMMING'"
      ]
     },
     "execution_count": 13,
     "metadata": {},
     "output_type": "execute_result"
    }
   ],
   "source": [
    "my_string.upper()"
   ]
  },
  {
   "cell_type": "code",
   "execution_count": 14,
   "id": "f83fd580-6511-42a8-a3f5-fb847f0d1aa4",
   "metadata": {},
   "outputs": [
    {
     "data": {
      "text/plain": [
       "1"
      ]
     },
     "execution_count": 14,
     "metadata": {},
     "output_type": "execute_result"
    }
   ],
   "source": [
    "my_string.count('w')"
   ]
  },
  {
   "cell_type": "code",
   "execution_count": 15,
   "id": "28846c33-4890-4b6b-8cf3-ed166e85737d",
   "metadata": {},
   "outputs": [],
   "source": [
    "import numpy as np"
   ]
  },
  {
   "cell_type": "code",
   "execution_count": 16,
   "id": "d7463ea8-91e8-48b3-a526-d472cc381e56",
   "metadata": {},
   "outputs": [],
   "source": [
    "my_list1 = [1,3,5,6]"
   ]
  },
  {
   "cell_type": "code",
   "execution_count": 19,
   "id": "175c0c6e-bf5d-4fa1-91a3-b4d075d897b4",
   "metadata": {},
   "outputs": [
    {
     "data": {
      "text/plain": [
       "[1, 3, 5, 6, 1, 3, 5, 6]"
      ]
     },
     "execution_count": 19,
     "metadata": {},
     "output_type": "execute_result"
    }
   ],
   "source": [
    "my_list1 * 2"
   ]
  },
  {
   "cell_type": "code",
   "execution_count": 20,
   "id": "c7699472-5ed7-4d30-b91c-d309b5bc5673",
   "metadata": {},
   "outputs": [],
   "source": [
    "my_array = np.array(my_list1)"
   ]
  },
  {
   "cell_type": "code",
   "execution_count": 21,
   "id": "1acd5d41-5bdc-42f5-a089-accba241c1df",
   "metadata": {},
   "outputs": [],
   "source": [
    "my_2darray = np.array([[1,2,3],[4,5,6]])"
   ]
  },
  {
   "cell_type": "code",
   "execution_count": 22,
   "id": "e471aeae-bf8b-4893-9146-319104767afd",
   "metadata": {},
   "outputs": [
    {
     "data": {
      "text/plain": [
       "3"
      ]
     },
     "execution_count": 22,
     "metadata": {},
     "output_type": "execute_result"
    }
   ],
   "source": [
    "my_array[1]"
   ]
  },
  {
   "cell_type": "code",
   "execution_count": 23,
   "id": "50a601da-545d-44ee-aa26-fa6cc95f5da2",
   "metadata": {},
   "outputs": [
    {
     "data": {
      "text/plain": [
       "array([1, 3])"
      ]
     },
     "execution_count": 23,
     "metadata": {},
     "output_type": "execute_result"
    }
   ],
   "source": [
    "my_array[0:2]"
   ]
  },
  {
   "cell_type": "code",
   "execution_count": 24,
   "id": "354596d0-9f6a-4664-a871-f0af178f426c",
   "metadata": {},
   "outputs": [
    {
     "data": {
      "text/plain": [
       "array([False, False,  True,  True])"
      ]
     },
     "execution_count": 24,
     "metadata": {},
     "output_type": "execute_result"
    }
   ],
   "source": [
    "my_array > 3\n"
   ]
  },
  {
   "cell_type": "code",
   "execution_count": 25,
   "id": "0ef72371-90d2-44fe-9ac3-4947640a030d",
   "metadata": {},
   "outputs": [
    {
     "data": {
      "text/plain": [
       "(4,)"
      ]
     },
     "execution_count": 25,
     "metadata": {},
     "output_type": "execute_result"
    }
   ],
   "source": [
    "my_array.shape"
   ]
  },
  {
   "cell_type": "code",
   "execution_count": 26,
   "id": "9b8f360d-c16e-48ee-89d6-3c69765fa877",
   "metadata": {},
   "outputs": [
    {
     "data": {
      "text/plain": [
       "3.75"
      ]
     },
     "execution_count": 26,
     "metadata": {},
     "output_type": "execute_result"
    }
   ],
   "source": [
    "np.mean(my_array)"
   ]
  },
  {
   "cell_type": "code",
   "execution_count": 27,
   "id": "698dc5e6-fcaa-4533-9334-f903585f3c0b",
   "metadata": {},
   "outputs": [
    {
     "data": {
      "text/plain": [
       "1.920286436967152"
      ]
     },
     "execution_count": 27,
     "metadata": {},
     "output_type": "execute_result"
    }
   ],
   "source": [
    "np.std(my_array)"
   ]
  },
  {
   "cell_type": "code",
   "execution_count": 29,
   "id": "640cb8f3-5702-473d-b6c1-41dc00f2422c",
   "metadata": {},
   "outputs": [
    {
     "data": {
      "text/plain": [
       "array([1, 5, 3, 5, 6])"
      ]
     },
     "execution_count": 29,
     "metadata": {},
     "output_type": "execute_result"
    }
   ],
   "source": [
    "np.insert(my_array, 1, 5)"
   ]
  },
  {
   "cell_type": "code",
   "execution_count": 30,
   "id": "eae9e890-4f20-4b4f-ad20-a6322b42d3b4",
   "metadata": {},
   "outputs": [
    {
     "data": {
      "text/plain": [
       "4.0"
      ]
     },
     "execution_count": 30,
     "metadata": {},
     "output_type": "execute_result"
    }
   ],
   "source": [
    "np.median(my_array)"
   ]
  },
  {
   "cell_type": "code",
   "execution_count": 31,
   "id": "e3ae98b8-7144-484e-a25b-149d3ef5c93d",
   "metadata": {},
   "outputs": [],
   "source": [
    ">>> a = np.array([1,2,3])\n",
    ">>> b = np.array([(1.5,2,3), (4,5,6)], dtype = float)\n",
    ">>> c = np.array([[(1.5,2,3), (4,5,6)], [(3,2,1), (4,5,6)]], \n",
    " dtype = float)"
   ]
  },
  {
   "cell_type": "code",
   "execution_count": 33,
   "id": "85852297-a4f2-4fb1-8522-ac07f4e1a5d2",
   "metadata": {},
   "outputs": [
    {
     "data": {
      "text/plain": [
       "array([[0., 0., 0., 0.],\n",
       "       [0., 0., 0., 0.],\n",
       "       [0., 0., 0., 0.]])"
      ]
     },
     "execution_count": 33,
     "metadata": {},
     "output_type": "execute_result"
    }
   ],
   "source": [
    ">>> np.zeros((3,4))\n"
   ]
  },
  {
   "cell_type": "code",
   "execution_count": 34,
   "id": "1a5a3cd2-1078-470a-97ca-7ae4434a9b3a",
   "metadata": {},
   "outputs": [
    {
     "data": {
      "text/plain": [
       "array([[[1, 1, 1, 1],\n",
       "        [1, 1, 1, 1],\n",
       "        [1, 1, 1, 1]],\n",
       "\n",
       "       [[1, 1, 1, 1],\n",
       "        [1, 1, 1, 1],\n",
       "        [1, 1, 1, 1]]], dtype=int16)"
      ]
     },
     "execution_count": 34,
     "metadata": {},
     "output_type": "execute_result"
    }
   ],
   "source": [
    ">>> np.ones((2,3,4),dtype=np.int16)"
   ]
  },
  {
   "cell_type": "code",
   "execution_count": 37,
   "id": "b4ac83d7-cbd5-4050-bd21-39b64d1e9df5",
   "metadata": {},
   "outputs": [],
   "source": [
    "d = np.arange(10,25,5)"
   ]
  },
  {
   "cell_type": "code",
   "execution_count": 38,
   "id": "2a83a33a-e891-4bb9-b0af-f738f246ff92",
   "metadata": {},
   "outputs": [
    {
     "data": {
      "text/plain": [
       "array([10, 15, 20])"
      ]
     },
     "execution_count": 38,
     "metadata": {},
     "output_type": "execute_result"
    }
   ],
   "source": [
    "d"
   ]
  },
  {
   "cell_type": "code",
   "execution_count": 39,
   "id": "e1f0f032-c433-4d39-821b-dd1028b12aea",
   "metadata": {},
   "outputs": [
    {
     "data": {
      "text/plain": [
       "array([[0.41379489, 0.91541497],\n",
       "       [0.71518603, 0.89008109]])"
      ]
     },
     "execution_count": 39,
     "metadata": {},
     "output_type": "execute_result"
    }
   ],
   "source": [
    "np.random.random((2,2))"
   ]
  },
  {
   "cell_type": "code",
   "execution_count": 40,
   "id": "4105e56e-367c-4e08-a744-87d75d210d2e",
   "metadata": {},
   "outputs": [
    {
     "data": {
      "text/plain": [
       "array([[0.58506396, 0.88666175],\n",
       "       [0.1035984 , 0.7021451 ]])"
      ]
     },
     "execution_count": 40,
     "metadata": {},
     "output_type": "execute_result"
    }
   ],
   "source": [
    "np.random.random((2,2))"
   ]
  },
  {
   "cell_type": "code",
   "execution_count": null,
   "id": "5f924e72-f53e-4794-826d-22d57d4fa6a5",
   "metadata": {},
   "outputs": [],
   "source": [
    "np.random.random((2, 2)).astype(int)"
   ]
  },
  {
   "cell_type": "code",
   "execution_count": 43,
   "id": "3a9b4bac-f046-4590-8b31-73a666ee7f55",
   "metadata": {},
   "outputs": [
    {
     "data": {
      "text/plain": [
       "array([[0, 0],\n",
       "       [0, 0]])"
      ]
     },
     "execution_count": 43,
     "metadata": {},
     "output_type": "execute_result"
    }
   ],
   "source": [
    "np.random.random((2, 2)).astype(int)"
   ]
  },
  {
   "cell_type": "code",
   "execution_count": 44,
   "id": "56a3b0a9-6b16-432c-ab98-e3051cbcd548",
   "metadata": {},
   "outputs": [
    {
     "data": {
      "text/plain": [
       "array([[0, 0],\n",
       "       [0, 0]])"
      ]
     },
     "execution_count": 44,
     "metadata": {},
     "output_type": "execute_result"
    }
   ],
   "source": [
    "np.random.random((2, 2)).astype(int)"
   ]
  },
  {
   "cell_type": "code",
   "execution_count": 45,
   "id": "85d66070-cb17-4ca5-9f67-3026604e8721",
   "metadata": {},
   "outputs": [
    {
     "data": {
      "text/plain": [
       "array([[0, 0],\n",
       "       [0, 0]])"
      ]
     },
     "execution_count": 45,
     "metadata": {},
     "output_type": "execute_result"
    }
   ],
   "source": [
    "np.random.random((2, 2)).astype(int)"
   ]
  },
  {
   "cell_type": "code",
   "execution_count": 49,
   "id": "ca070cc8-5aad-4fcd-8664-e67a8296d5cd",
   "metadata": {},
   "outputs": [],
   "source": [
    "g = a - b"
   ]
  },
  {
   "cell_type": "code",
   "execution_count": 50,
   "id": "8bd1e1ee-b0b0-44fd-929a-d533a08dc6bf",
   "metadata": {},
   "outputs": [
    {
     "data": {
      "text/plain": [
       "array([[-0.5,  0. ,  0. ],\n",
       "       [-3. , -3. , -3. ]])"
      ]
     },
     "execution_count": 50,
     "metadata": {},
     "output_type": "execute_result"
    }
   ],
   "source": [
    "g\n"
   ]
  },
  {
   "cell_type": "code",
   "execution_count": 53,
   "id": "9bf0a7f0-be04-4b89-a166-56790b5925c8",
   "metadata": {},
   "outputs": [
    {
     "data": {
      "text/plain": [
       "array([[0.66666667, 1.        , 1.        ],\n",
       "       [0.25      , 0.4       , 0.5       ]])"
      ]
     },
     "execution_count": 53,
     "metadata": {},
     "output_type": "execute_result"
    }
   ],
   "source": [
    "np.divide(a,b)"
   ]
  },
  {
   "cell_type": "code",
   "execution_count": 54,
   "id": "8c96446e-2dc1-4eab-8c71-cf2e43397735",
   "metadata": {},
   "outputs": [
    {
     "data": {
      "text/plain": [
       "array([[  4.48168907,   7.3890561 ,  20.08553692],\n",
       "       [ 54.59815003, 148.4131591 , 403.42879349]])"
      ]
     },
     "execution_count": 54,
     "metadata": {},
     "output_type": "execute_result"
    }
   ],
   "source": [
    "np.exp(b)"
   ]
  },
  {
   "cell_type": "code",
   "execution_count": 55,
   "id": "380de3fd-15b7-4edb-b7b8-c2ac12e532ef",
   "metadata": {},
   "outputs": [
    {
     "data": {
      "text/plain": [
       "array([[False,  True,  True],\n",
       "       [False, False, False]])"
      ]
     },
     "execution_count": 55,
     "metadata": {},
     "output_type": "execute_result"
    }
   ],
   "source": [
    "a == b"
   ]
  },
  {
   "cell_type": "code",
   "execution_count": 56,
   "id": "e09cf5d5-e83e-494d-b1e6-07965f288520",
   "metadata": {},
   "outputs": [],
   "source": [
    "a.sort()"
   ]
  },
  {
   "cell_type": "code",
   "execution_count": 57,
   "id": "45e68dca-937b-41f1-8213-4df980cfefe5",
   "metadata": {},
   "outputs": [
    {
     "data": {
      "text/plain": [
       "array([1, 2, 3])"
      ]
     },
     "execution_count": 57,
     "metadata": {},
     "output_type": "execute_result"
    }
   ],
   "source": [
    "a"
   ]
  },
  {
   "cell_type": "code",
   "execution_count": 58,
   "id": "f2a87624-0be9-4e14-b69c-5dbb663b1a19",
   "metadata": {},
   "outputs": [
    {
     "data": {
      "text/plain": [
       "array([[1.5, 2. , 3. ],\n",
       "       [4. , 5. , 6. ]])"
      ]
     },
     "execution_count": 58,
     "metadata": {},
     "output_type": "execute_result"
    }
   ],
   "source": [
    "b.sort()\n",
    "b"
   ]
  },
  {
   "cell_type": "code",
   "execution_count": 59,
   "id": "da0a7439-3b85-4664-87af-40d911c68b76",
   "metadata": {},
   "outputs": [],
   "source": [
    ">>> from numpy import poly1d\n",
    ">>> p = poly1d([3,4,5])"
   ]
  },
  {
   "cell_type": "code",
   "execution_count": 60,
   "id": "77df3491-cc76-4b2a-b31c-ab00b4e70041",
   "metadata": {},
   "outputs": [
    {
     "data": {
      "text/plain": [
       "poly1d([3, 4, 5])"
      ]
     },
     "execution_count": 60,
     "metadata": {},
     "output_type": "execute_result"
    }
   ],
   "source": [
    "p"
   ]
  },
  {
   "cell_type": "code",
   "execution_count": 61,
   "id": "9f5c13b9-24ac-4526-b368-8714d6830e2a",
   "metadata": {},
   "outputs": [],
   "source": [
    ">>> a = np.array([1,2,3])\n",
    ">>> b = np.array([(1+5j,2j,3j), (4j,5j,6j)])\n",
    ">>> c = np.array([[(1.5,2,3), (4,5,6)], [(3,2,1), (4,5,6)]])"
   ]
  },
  {
   "cell_type": "code",
   "execution_count": 63,
   "id": "a159ed78-efb7-4b4b-bb75-72c372dd1239",
   "metadata": {},
   "outputs": [
    {
     "data": {
      "text/plain": [
       "array([[[0, 0, 0, 0, 0],\n",
       "        [1, 1, 1, 1, 1],\n",
       "        [2, 2, 2, 2, 2],\n",
       "        [3, 3, 3, 3, 3],\n",
       "        [4, 4, 4, 4, 4]],\n",
       "\n",
       "       [[0, 1, 2, 3, 4],\n",
       "        [0, 1, 2, 3, 4],\n",
       "        [0, 1, 2, 3, 4],\n",
       "        [0, 1, 2, 3, 4],\n",
       "        [0, 1, 2, 3, 4]]])"
      ]
     },
     "execution_count": 63,
     "metadata": {},
     "output_type": "execute_result"
    }
   ],
   "source": [
    ">>> np.mgrid[0:5,0:5]"
   ]
  },
  {
   "cell_type": "code",
   "execution_count": 64,
   "id": "f59c7dac-e6a6-47c5-be66-5129eb9e1133",
   "metadata": {},
   "outputs": [
    {
     "data": {
      "text/plain": [
       "[array([[0],\n",
       "        [1]]),\n",
       " array([[0, 1]])]"
      ]
     },
     "execution_count": 64,
     "metadata": {},
     "output_type": "execute_result"
    }
   ],
   "source": [
    ">>> np.ogrid[0:2,0:2]"
   ]
  },
  {
   "cell_type": "code",
   "execution_count": 70,
   "id": "7d3fab3e-3ac0-47e7-9305-5effda483bb3",
   "metadata": {},
   "outputs": [
    {
     "data": {
      "text/plain": [
       "array([[[1.5, 2. , 3. ],\n",
       "        [4. , 5. , 6. ]],\n",
       "\n",
       "       [[3. , 2. , 1. ],\n",
       "        [4. , 5. , 6. ]]])"
      ]
     },
     "execution_count": 70,
     "metadata": {},
     "output_type": "execute_result"
    }
   ],
   "source": [
    ">>> np.real(c)"
   ]
  },
  {
   "cell_type": "code",
   "execution_count": 71,
   "id": "88f09f1b-a619-4f37-a57e-c918a8d852d1",
   "metadata": {},
   "outputs": [
    {
     "data": {
      "text/plain": [
       "array([[[0., 0., 0.],\n",
       "        [0., 0., 0.]],\n",
       "\n",
       "       [[0., 0., 0.],\n",
       "        [0., 0., 0.]]])"
      ]
     },
     "execution_count": 71,
     "metadata": {},
     "output_type": "execute_result"
    }
   ],
   "source": [
    ">>> np.imag(c)"
   ]
  },
  {
   "cell_type": "code",
   "execution_count": 2,
   "id": "1806276d-9b50-4e37-b305-199849fba11a",
   "metadata": {},
   "outputs": [],
   "source": [
    "import matplotlib.pyplot as plt"
   ]
  },
  {
   "cell_type": "code",
   "execution_count": 4,
   "id": "918843f3-d86a-4d9e-9164-e1d60ca8eada",
   "metadata": {},
   "outputs": [],
   "source": [
    "x = [1,2,3,4]\n",
    "y = [10,20,25,30]\n"
   ]
  },
  {
   "cell_type": "code",
   "execution_count": 6,
   "id": "972444f9-3347-4e69-bb19-e0bf0dea7e08",
   "metadata": {},
   "outputs": [
    {
     "data": {
      "text/plain": [
       "<Figure size 640x480 with 0 Axes>"
      ]
     },
     "metadata": {},
     "output_type": "display_data"
    }
   ],
   "source": [
    "fig = plt.figure()"
   ]
  },
  {
   "cell_type": "code",
   "execution_count": 8,
   "id": "63faa8d7-3cb4-4c7d-950c-ce2d27b3c6ea",
   "metadata": {},
   "outputs": [],
   "source": [
    "ax = fig.add_subplot(111)\n"
   ]
  },
  {
   "cell_type": "code",
   "execution_count": 10,
   "id": "eebcbaa5-c2da-4e5e-b0c3-6518074d7aba",
   "metadata": {},
   "outputs": [
    {
     "data": {
      "text/plain": [
       "[<matplotlib.lines.Line2D at 0x1b1036fa150>]"
      ]
     },
     "execution_count": 10,
     "metadata": {},
     "output_type": "execute_result"
    }
   ],
   "source": [
    "ax.plot(x, y, color='lightblue', linewidth=3)"
   ]
  },
  {
   "cell_type": "code",
   "execution_count": 16,
   "id": "137989d6-6ad8-41d2-96fb-a1e062c1509d",
   "metadata": {},
   "outputs": [
    {
     "data": {
      "image/png": "[encoded data removed]",
      "text/plain": [
       "<Figure size 640x480 with 1 Axes>"
      ]
     },
     "metadata": {},
     "output_type": "display_data"
    }
   ],
   "source": [
    "import matplotlib.pyplot as plt\n",
    "import numpy as np\n",
    "\n",
    "# Sample data\n",
    "x = np.linspace(1, 6, 100)\n",
    "y = np.sin(x)\n",
    "\n",
    "# Create figure and axes\n",
    "fig, ax = plt.subplots()\n",
    "\n",
    "# Plotting\n",
    "ax.plot(x, y, color='lightblue', linewidth=3)\n",
    "ax.scatter([2, 4, 6], [5, 15, 25], color='darkgreen', marker='^')\n",
    "ax.set_xlim(1, 6.5)\n",
    "\n",
    "# Save the figure\n",
    "plt.savefig('foo.png')  # Corrected file extension\n",
    "plt.show()"
   ]
  },
  {
   "cell_type": "code",
   "execution_count": 18,
   "id": "c89b8321-4fa3-4f71-a127-95e364614f53",
   "metadata": {},
   "outputs": [
    {
     "ename": "NameError",
     "evalue": "name 'im' is not defined",
     "output_type": "error",
     "traceback": [
      "\u001b[1;31m---------------------------------------------------------------------------\u001b[0m",
      "\u001b[1;31mNameError\u001b[0m                                 Traceback (most recent call last)",
      "Cell \u001b[1;32mIn[18], line 4\u001b[0m\n\u001b[0;32m      2\u001b[0m ax\u001b[38;5;241m.\u001b[39mplot(x, y, alpha \u001b[38;5;241m=\u001b[39m \u001b[38;5;241m0.4\u001b[39m)\n\u001b[0;32m      3\u001b[0m ax\u001b[38;5;241m.\u001b[39mplot(x, y, c\u001b[38;5;241m=\u001b[39m\u001b[38;5;124m'\u001b[39m\u001b[38;5;124mk\u001b[39m\u001b[38;5;124m'\u001b[39m)\n\u001b[1;32m----> 4\u001b[0m fig\u001b[38;5;241m.\u001b[39mcolorbar(im, orientation\u001b[38;5;241m=\u001b[39m\u001b[38;5;124m'\u001b[39m\u001b[38;5;124mhorizontal\u001b[39m\u001b[38;5;124m'\u001b[39m)\n\u001b[0;32m      5\u001b[0m im \u001b[38;5;241m=\u001b[39m ax\u001b[38;5;241m.\u001b[39mimshow(img, \n\u001b[0;32m      6\u001b[0m  cmap\u001b[38;5;241m=\u001b[39m\u001b[38;5;124m'\u001b[39m\u001b[38;5;124mseismic\u001b[39m\u001b[38;5;124m'\u001b[39m)\n",
      "\u001b[1;31mNameError\u001b[0m: name 'im' is not defined"
     ]
    },
    {
     "data": {
      "image/png": "[encoded data removed]",
      "text/plain": [
       "<Figure size 640x480 with 1 Axes>"
      ]
     },
     "metadata": {},
     "output_type": "display_data"
    }
   ],
   "source": [
    ">>> plt.plot(x, x, x, x**2, x, x**3)\n",
    ">>> ax.plot(x, y, alpha = 0.4)\n",
    ">>> ax.plot(x, y, c='k')\n",
    ">>> fig.colorbar(im, orientation='horizontal')\n",
    ">>> im = ax.imshow(img, \n",
    " cmap='seismic')"
   ]
  },
  {
   "cell_type": "code",
   "execution_count": 20,
   "id": "a7844f86-4f6a-4371-90ca-98abcfbe98da",
   "metadata": {},
   "outputs": [
    {
     "data": {
      "text/plain": [
       "[<matplotlib.lines.Line2D at 0x1b108550d70>]"
      ]
     },
     "execution_count": 20,
     "metadata": {},
     "output_type": "execute_result"
    },
    {
     "data": {
      "image/png": "[encoded data removed]",
      "text/plain": [
       "<Figure size 640x480 with 1 Axes>"
      ]
     },
     "metadata": {},
     "output_type": "display_data"
    }
   ],
   "source": [
    ">>> fig, ax = plt.subplots()\n",
    ">>> ax.scatter(x,y,marker=\".\")\n",
    ">>> ax.plot(x,y,marker=\"o\")"
   ]
  },
  {
   "cell_type": "code",
   "execution_count": 32,
   "id": "e0e119cc-a16f-4411-87dc-f0bfefda50c2",
   "metadata": {},
   "outputs": [
    {
     "data": {
      "text/plain": [
       "[None, None, None, None, None, None, None, None]"
      ]
     },
     "execution_count": 32,
     "metadata": {},
     "output_type": "execute_result"
    },
    {
     "data": {
      "image/png": "[encoded data removed]",
      "text/plain": [
       "<Figure size 640x480 with 1 Axes>"
      ]
     },
     "metadata": {},
     "output_type": "display_data"
    }
   ],
   "source": [
    "lines = [\n",
    "    plt.plot(x, y, linewidth=2.0)[0],\n",
    "    plt.plot(x, y, ls='solid')[0],\n",
    "    plt.plot(x, y, ls='--')[0],\n",
    "    plt.plot(x, y**2, ls='-.')[0]\n",
    "]\n",
    "\n",
    "plt.setp(lines, color='g', linewidth=4.0)\n"
   ]
  },
  {
   "cell_type": "code",
   "execution_count": 34,
   "id": "7793e30b-1b72-45bc-9b29-48914b776524",
   "metadata": {},
   "outputs": [
    {
     "data": {
      "text/plain": [
       "<Figure size 640x480 with 0 Axes>"
      ]
     },
     "metadata": {},
     "output_type": "display_data"
    },
    {
     "data": {
      "text/plain": [
       "<Figure size 400x800 with 0 Axes>"
      ]
     },
     "metadata": {},
     "output_type": "display_data"
    }
   ],
   "source": [
    ">>> fig = plt.figure()\n",
    ">>> fig2 = plt.figure(figsize=plt.figaspect(2.0))"
   ]
  },
  {
   "cell_type": "code",
   "execution_count": 38,
   "id": "90b986ec-d30c-47f5-8369-057fc2afeca7",
   "metadata": {},
   "outputs": [
    {
     "data": {
      "image/png": "[encoded data removed]",
      "text/plain": [
       "<Figure size 640x480 with 3 Axes>"
      ]
     },
     "metadata": {},
     "output_type": "display_data"
    }
   ],
   "source": [
    "import matplotlib.pyplot as plt\n",
    "\n",
    "fig = plt.figure()\n",
    "\n",
    "# Add an Axes at a specific position (left, bottom, width, height)\n",
    "ax = fig.add_axes([0.1, 0.1, 0.8, 0.8])  # Example: [10% from left, 10% from bottom, 80% width, 80% height]\n",
    "\n",
    "# Add other subplots if needed\n",
    "ax1 = fig.add_subplot(221)  # 2 rows, 2 columns, first subplot\n",
    "ax3 = fig.add_subplot(212)  # 2 rows, 1 column, second subplot\n",
    "\n",
    "plt.show()\n"
   ]
  },
  {
   "cell_type": "code",
   "execution_count": null,
   "id": "1fe68711-0184-4c13-b2a5-99520de4fc41",
   "metadata": {},
   "outputs": [],
   "source": []
  }
 ],
 "metadata": {
  "kernelspec": {
   "display_name": "Python 3 (ipykernel)",
   "language": "python",
   "name": "python3"
  },
  "language_info": {
   "codemirror_mode": {
    "name": "ipython",
    "version": 3
   },
   "file_extension": ".py",
   "mimetype": "text/x-python",
   "name": "python",
   "nbconvert_exporter": "python",
   "pygments_lexer": "ipython3",
   "version": "3.12.4"
  }
 },
 "nbformat": 4,
 "nbformat_minor": 5
}
