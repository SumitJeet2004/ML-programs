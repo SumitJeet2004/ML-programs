{
 "cells": [
  {
   "cell_type": "code",
   "execution_count": 1,
   "id": "f612924b-3f65-401b-93de-54f403b701e9",
   "metadata": {},
   "outputs": [
    {
     "name": "stdout",
     "output_type": "stream",
     "text": [
      "   CGPA     Salary\n",
      "0  9.56   98100.43\n",
      "1  9.34   51208.87\n",
      "2  7.61   45970.66\n",
      "3  6.88   66110.69\n",
      "4  8.80  107369.43\n",
      "Original Data:\n",
      "    CGPA     Salary\n",
      "0  9.56   98100.43\n",
      "1  9.34   51208.87\n",
      "2  7.61   45970.66\n",
      "3  6.88   66110.69\n",
      "4  8.80  107369.43\n",
      "5  6.62  108881.93\n",
      "6  7.43   61353.58\n",
      "7  5.53  114329.47\n",
      "8  6.65   58613.72\n",
      "9  9.22   52049.40\n",
      "\n",
      "Min-Max Normalized Data:\n",
      "        CGPA    Salary\n",
      "0  1.000000  0.762590\n",
      "1  0.945409  0.076628\n",
      "2  0.516129  0.000000\n",
      "3  0.334988  0.294622\n",
      "4  0.811414  0.898184\n",
      "5  0.270471  0.920310\n",
      "6  0.471464  0.225032\n",
      "7  0.000000  1.000000\n",
      "8  0.277916  0.184951\n",
      "9  0.915633  0.088924\n",
      "\n",
      "Standardized Data:\n",
      "        CGPA    Salary\n",
      "0  1.363118  0.836794\n",
      "1  1.196144 -0.971301\n",
      "2 -0.116882 -1.173282\n",
      "3 -0.670933 -0.396701\n",
      "4  0.786298  1.194198\n",
      "5 -0.868267  1.252519\n",
      "6 -0.253497 -0.580131\n",
      "7 -1.695549  1.462571\n",
      "8 -0.845498 -0.685777\n",
      "9  1.105067 -0.938891\n",
      "\n",
      "L2 Normalized Data:\n",
      "        CGPA  Salary\n",
      "0  0.000097     1.0\n",
      "1  0.000182     1.0\n",
      "2  0.000166     1.0\n",
      "3  0.000104     1.0\n",
      "4  0.000082     1.0\n",
      "5  0.000061     1.0\n",
      "6  0.000121     1.0\n",
      "7  0.000048     1.0\n",
      "8  0.000113     1.0\n",
      "9  0.000177     1.0\n"
     ]
    }
   ],
   "source": [
    "import pandas as pd\n",
    "\n",
    "# Load the data\n",
    "data = pd.read_csv('data_nor1.csv')\n",
    "\n",
    "# Confirm data is loaded\n",
    "print(data.head())\n",
    "\n",
    "import numpy as np\n",
    "import pandas as pd\n",
    "from sklearn.preprocessing import MinMaxScaler, StandardScaler, Normalizer\n",
    "\n",
    "# Generate random data for CGPA and Salary\n",
    "DataFrame=pd.read_csv('data_nor1.csv')\n",
    "# Min-Max Normalization\n",
    "min_max_scaler = MinMaxScaler()\n",
    "min_max_normalized = pd.DataFrame(min_max_scaler.fit_transform(data), columns=data.columns)\n",
    "\n",
    "# Standardization\n",
    "standard_scaler = StandardScaler()\n",
    "standard_normalized = pd.DataFrame(standard_scaler.fit_transform(data), columns=data.columns)\n",
    "\n",
    "# L2 Normalization\n",
    "l2_normalizer = Normalizer(norm='l2')\n",
    "l2_normalized = pd.DataFrame(l2_normalizer.fit_transform(data), columns=data.columns)\n",
    "\n",
    "\n",
    "print(\"Original Data:\\n\", data)\n",
    "print(\"\\nMin-Max Normalized Data:\\n\", min_max_normalized)\n",
    "print(\"\\nStandardized Data:\\n\", standard_normalized)\n",
    "print(\"\\nL2 Normalized Data:\\n\", l2_normalized)"
   ]
  },
  {
   "cell_type": "code",
   "execution_count": 2,
   "id": "7b27cd76-8d1f-4f24-85a4-39941b076b0b",
   "metadata": {},
   "outputs": [
    {
     "name": "stdout",
     "output_type": "stream",
     "text": [
      "X_train:\n",
      "    CGPA\n",
      "5  6.62\n",
      "0  9.56\n",
      "7  5.53\n",
      "2  7.61\n",
      "9  9.22\n",
      "4  8.80\n",
      "3  6.88\n",
      "6  7.43\n",
      "X_test:\n",
      "    CGPA\n",
      "8  6.65\n",
      "1  9.34\n",
      "y_train:\n",
      " 5    108881.93\n",
      "0     98100.43\n",
      "7    114329.47\n",
      "2     45970.66\n",
      "9     52049.40\n",
      "4    107369.43\n",
      "3     66110.69\n",
      "6     61353.58\n",
      "Name: Salary, dtype: float64\n",
      "y_test:\n",
      " 8    58613.72\n",
      "1    51208.87\n",
      "Name: Salary, dtype: float64\n"
     ]
    }
   ],
   "source": [
    "from sklearn.model_selection import train_test_split\n",
    "import pandas as pd\n",
    "X = DataFrame[['CGPA']]\n",
    "y = DataFrame['Salary']\n",
    "\n",
    "# Split the data into training and testing sets\n",
    "X_train, X_test, y_train, y_test = train_test_split(X, y, test_size=0.2, random_state=42)\n",
    "\n",
    "print(\"X_train:\\n\", X_train)\n",
    "print(\"X_test:\\n\", X_test)\n",
    "print(\"y_train:\\n\", y_train)\n",
    "print(\"y_test:\\n\", y_test)\n",
    "\n"
   ]
  },
  {
   "cell_type": "code",
   "execution_count": 3,
   "id": "f3df4132-156d-4027-91ee-3e738b7a5c2d",
   "metadata": {},
   "outputs": [
    {
     "data": {
      "image/png": "[encoded data removed]",
      "text/plain": [
       "<Figure size 640x480 with 1 Axes>"
      ]
     },
     "metadata": {},
     "output_type": "display_data"
    }
   ],
   "source": [
    "import matplotlib.pyplot as plt\n",
    "\n",
    "\n",
    "\n",
    "# ... (rest of your code)\n",
    "\n",
    "\n",
    "\n",
    "# Create the scatter plot\n",
    "\n",
    "plt.scatter(X_train, y_train, color='blue', label='Training Data')\n",
    "\n",
    "plt.scatter(X_test, y_test, color='red', label='Testing Data')\n",
    "\n",
    "\n",
    "\n",
    "# Add labels and title\n",
    "\n",
    "plt.xlabel('CGPA')\n",
    "\n",
    "plt.ylabel('Salary')\n",
    "\n",
    "plt.title('CGPA vs. Salary')\n",
    "\n",
    "\n",
    "\n",
    "# Add a legend\n",
    "\n",
    "plt.legend()\n",
    "\n",
    "\n",
    "\n",
    "# Show the plot\n",
    "\n",
    "plt.show()"
   ]
  },
  {
   "cell_type": "code",
   "execution_count": 4,
   "id": "1f10e65f-91e0-4fb6-b540-405acf5a0d1a",
   "metadata": {},
   "outputs": [
    {
     "name": "stdout",
     "output_type": "stream",
     "text": [
      "Coefficients: [-4776.56153145]\n",
      "Intercept: 118580.07605169973\n"
     ]
    }
   ],
   "source": [
    "from sklearn.linear_model import LinearRegression\n",
    "\n",
    "# ... (rest of your code)\n",
    "\n",
    "# Create a linear regression model\n",
    "model = LinearRegression()\n",
    "\n",
    "# Fit the model to the training data\n",
    "model.fit(X_train, y_train)\n",
    "\n",
    "# Make predictions on the testing data\n",
    "y_pred = model.predict(X_test)\n",
    "\n",
    "# Print the coefficients and intercept\n",
    "print(\"Coefficients:\", model.coef_)\n",
    "print(\"Intercept:\", model.intercept_)\n",
    "\n",
    "\n"
   ]
  },
  {
   "cell_type": "code",
   "execution_count": 28,
   "id": "f606bfa6-3c99-4453-a5c6-2e35034c68b5",
   "metadata": {},
   "outputs": [
    {
     "name": "stdout",
     "output_type": "stream",
     "text": [
      "Predicted Salary: [77979.30303442]\n"
     ]
    }
   ],
   "source": [
    "import warnings\n",
    "\n",
    "warnings.filterwarnings(\"ignore\", category=UserWarning)\n",
    "\n",
    "predicted_salary = model.predict(new_cgpa)\n",
    "print(\"Predicted Salary:\", predicted_salary)"
   ]
  },
  {
   "cell_type": "code",
   "execution_count": 30,
   "id": "14a915ac-25fe-4fef-865c-b0053aff6183",
   "metadata": {},
   "outputs": [
    {
     "name": "stdout",
     "output_type": "stream",
     "text": [
      "Mean Squared Error: 656648702.7795361\n",
      "Root Mean Squared Error: 25625.157614725733\n"
     ]
    }
   ],
   "source": [
    "from sklearn.metrics import mean_squared_error\n",
    "\n",
    "# ... (rest of your code)\n",
    "\n",
    "# Calculate MSE\n",
    "mse = mean_squared_error(y_test, y_pred)\n",
    "\n",
    "# Calculate RMSE\n",
    "rmse = np.sqrt(mse)\n",
    "\n",
    "print(\"Mean Squared Error:\", mse)\n",
    "print(\"Root Mean Squared Error:\", rmse)"
   ]
  },
  {
   "cell_type": "code",
   "execution_count": null,
   "id": "f3507246-599e-4716-91a9-7f25eeccb30e",
   "metadata": {},
   "outputs": [],
   "source": []
  }
 ],
 "metadata": {
  "kernelspec": {
   "display_name": "Python 3 (ipykernel)",
   "language": "python",
   "name": "python3"
  },
  "language_info": {
   "codemirror_mode": {
    "name": "ipython",
    "version": 3
   },
   "file_extension": ".py",
   "mimetype": "text/x-python",
   "name": "python",
   "nbconvert_exporter": "python",
   "pygments_lexer": "ipython3",
   "version": "3.12.4"
  }
 },
 "nbformat": 4,
 "nbformat_minor": 5
}
