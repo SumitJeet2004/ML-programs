{
 "cells": [
  {
   "cell_type": "code",
   "execution_count": 9,
   "id": "c6624620-b21c-4979-8c43-ba1c7d4d2d09",
   "metadata": {},
   "outputs": [
    {
     "name": "stdout",
     "output_type": "stream",
     "text": [
      "Original Data:\n",
      "        CGPA         Salary\n",
      "0  9.006048   68891.162903\n",
      "1  9.349276   50225.914499\n",
      "2  7.091060   99153.681043\n",
      "3  6.457425   66132.793579\n",
      "4  8.782199   80532.490661\n",
      "5  7.329024  112138.302713\n",
      "6  9.540489   60091.412921\n",
      "7  7.521557   77539.942021\n",
      "8  8.796696   79761.129502\n",
      "9  8.711829   61030.774361\n",
      "\n",
      "Min-Max Normalized Data:\n",
      "        CGPA    Salary\n",
      "0  0.826653  0.301478\n",
      "1  0.937980  0.000000\n",
      "2  0.205521  0.790274\n",
      "3  0.000000  0.256926\n",
      "4  0.754047  0.489507\n",
      "5  0.282705  1.000000\n",
      "6  1.000000  0.159346\n",
      "7  0.345154  0.441172\n",
      "8  0.758749  0.477049\n",
      "9  0.731222  0.174519\n",
      "\n",
      "Standardized Data:\n",
      "        CGPA    Salary\n",
      "0  0.741020 -0.374193\n",
      "1  1.081278 -1.423123\n",
      "2 -1.157398  1.326468\n",
      "3 -1.785549 -0.529205\n",
      "4  0.519107  0.280014\n",
      "5 -0.921493  2.056164\n",
      "6  1.270836 -0.868712\n",
      "7 -0.730626  0.111842\n",
      "8  0.533479  0.236666\n",
      "9  0.449347 -0.815923\n",
      "\n",
      "L2 Normalized Data:\n",
      "        CGPA  Salary\n",
      "0  0.000131     1.0\n",
      "1  0.000186     1.0\n",
      "2  0.000072     1.0\n",
      "3  0.000098     1.0\n",
      "4  0.000109     1.0\n",
      "5  0.000065     1.0\n",
      "6  0.000159     1.0\n",
      "7  0.000097     1.0\n",
      "8  0.000110     1.0\n",
      "9  0.000143     1.0\n"
     ]
    }
   ],
   "source": [
    "import numpy as np\n",
    "import pandas as pd\n",
    "from sklearn.preprocessing import MinMaxScaler, StandardScaler, Normalizer\n",
    "\n",
    "# Generate random data for CGPA and Salary\n",
    "DataFrame=pd.read_csv('data_nor1.csv')\n",
    "# Min-Max Normalization\n",
    "min_max_scaler = MinMaxScaler()\n",
    "min_max_normalized = pd.DataFrame(min_max_scaler.fit_transform(data), columns=data.columns)\n",
    "\n",
    "# Standardization\n",
    "standard_scaler = StandardScaler()\n",
    "standard_normalized = pd.DataFrame(standard_scaler.fit_transform(data), columns=data.columns)\n",
    "\n",
    "# L2 Normalization\n",
    "l2_normalizer = Normalizer(norm='l2')\n",
    "l2_normalized = pd.DataFrame(l2_normalizer.fit_transform(data), columns=data.columns)\n",
    "\n",
    "\n",
    "print(\"Original Data:\\n\", data)\n",
    "print(\"\\nMin-Max Normalized Data:\\n\", min_max_normalized)\n",
    "print(\"\\nStandardized Data:\\n\", standard_normalized)\n",
    "print(\"\\nL2 Normalized Data:\\n\", l2_normalized)\n"
   ]
  },
  {
   "cell_type": "code",
   "execution_count": null,
   "id": "b252d506-4093-4124-bc73-8f148dedc86f",
   "metadata": {},
   "outputs": [],
   "source": []
  }
 ],
 "metadata": {
  "kernelspec": {
   "display_name": "Python 3 (ipykernel)",
   "language": "python",
   "name": "python3"
  },
  "language_info": {
   "codemirror_mode": {
    "name": "ipython",
    "version": 3
   },
   "file_extension": ".py",
   "mimetype": "text/x-python",
   "name": "python",
   "nbconvert_exporter": "python",
   "pygments_lexer": "ipython3",
   "version": "3.12.4"
  }
 },
 "nbformat": 4,
 "nbformat_minor": 5
}
